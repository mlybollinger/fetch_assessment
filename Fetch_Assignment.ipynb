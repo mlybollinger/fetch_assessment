{
 "cells": [
  {
   "cell_type": "code",
   "execution_count": 2,
   "id": "25ab4e90",
   "metadata": {},
   "outputs": [],
   "source": [
    "import pandas as pd\n",
    "import matplotlib.pyplot as plt\n",
    "import numpy as np\n",
    "from torch import nn\n",
    "import torch\n",
    "import gradio as gr"
   ]
  },
  {
   "cell_type": "code",
   "execution_count": 4,
   "id": "c92b9115",
   "metadata": {},
   "outputs": [
    {
     "name": "stderr",
     "output_type": "stream",
     "text": [
      "/var/folders/yz/d4wch5zd2m1dl4j2c078zfnm0000gn/T/ipykernel_31411/1297756948.py:57: FutureWarning: The default value of numeric_only in DataFrameGroupBy.sum is deprecated. In a future version, numeric_only will default to False. Either specify numeric_only or select only columns which should be valid for the function.\n",
      "  monthly_data = ts_data.groupby(['Month', 'Year']).sum().reset_index()\n",
      "/opt/homebrew/Caskroom/miniconda/base/envs/holford/lib/python3.11/site-packages/gradio/blocks.py:928: UserWarning: api_name line_plot_fn already exists, using line_plot_fn_1\n",
      "  warnings.warn(f\"api_name {api_name} already exists, using {api_name_}\")\n"
     ]
    },
    {
     "name": "stdout",
     "output_type": "stream",
     "text": [
      "Running on local URL:  http://127.0.0.1:7861\n",
      "\n",
      "To create a public link, set `share=True` in `launch()`.\n"
     ]
    },
    {
     "data": {
      "text/html": [
       "<div><iframe src=\"http://127.0.0.1:7861/\" width=\"100%\" height=\"500\" allow=\"autoplay; camera; microphone; clipboard-read; clipboard-write;\" frameborder=\"0\" allowfullscreen></iframe></div>"
      ],
      "text/plain": [
       "<IPython.core.display.HTML object>"
      ]
     },
     "metadata": {},
     "output_type": "display_data"
    },
    {
     "name": "stderr",
     "output_type": "stream",
     "text": [
      "/opt/homebrew/Caskroom/miniconda/base/envs/holford/lib/python3.11/site-packages/altair/utils/deprecation.py:65: AltairDeprecationWarning: 'selection' is deprecated.\n",
      "   Use 'selection_point()' or 'selection_interval()' instead; these functions also include more helpful docstrings.\n",
      "  warnings.warn(message, AltairDeprecationWarning, stacklevel=1)\n",
      "/opt/homebrew/Caskroom/miniconda/base/envs/holford/lib/python3.11/site-packages/altair/vegalite/v5/api.py:425: AltairDeprecationWarning: The types 'single' and 'multi' are now\n",
      "        combined and should be specified using \"selection_point()\".\n",
      "  warnings.warn(\n",
      "/opt/homebrew/Caskroom/miniconda/base/envs/holford/lib/python3.11/site-packages/altair/utils/deprecation.py:65: AltairDeprecationWarning: 'add_selection' is deprecated. Use 'add_params' instead.\n",
      "  warnings.warn(message, AltairDeprecationWarning, stacklevel=1)\n"
     ]
    }
   ],
   "source": [
    "ts_data = pd.read_csv('data_daily.csv')\n",
    "\n",
    "data = ts_data['Receipt_Count']\n",
    "\n",
    "def calc_rmse(pred, true):\n",
    "    total = 0\n",
    "    for i in range(len(pred)):\n",
    "        square = (pred[i] - true[i]) ** 2\n",
    "        total += square\n",
    "    mean_square = total / len(pred)\n",
    "    root_mean_square = mean_square ** .5\n",
    "    return root_mean_square\n",
    "\n",
    "b0s = [7250000, 7500000, 7625000, 7750000]\n",
    "alphas = [7000, 7270, 7400, 7500]\n",
    "\n",
    "best_error = 10000000\n",
    "\n",
    "for b0 in b0s:\n",
    "    for alpha in alphas:\n",
    "        values = [b0 + alpha * i for i in range(365)]\n",
    "        error = calc_rmse(values, data)\n",
    "        if error < best_error:\n",
    "            best_alpha = alpha\n",
    "            best_b0 = b0\n",
    "            best_error = error\n",
    "\n",
    "\n",
    "stationary = []\n",
    "\n",
    "for i, elem in enumerate(data):\n",
    "    stationary.append(elem - alpha * i)\n",
    "    \n",
    "std = np.var(stationary) ** .5\n",
    "    \n",
    "preds = []\n",
    "\n",
    "for i in range(730):\n",
    "    preds.append(np.round(b0 + alpha * i + np.random.normal(0, std)))\n",
    "\n",
    "    \n",
    "alpha = best_alpha\n",
    "b0 = best_b0\n",
    "\n",
    "ts_data['# Date'] = pd.to_datetime(ts_data['# Date'])\n",
    "pred_dates = ts_data[\"# Date\"].apply(lambda dt: dt.replace(year=2022))\n",
    "new_frame = pd.DataFrame(pred_dates)\n",
    "new_frame['Receipt_Count'] = preds[365:]\n",
    "ts_data = pd.concat([ts_data, new_frame])\n",
    "\n",
    "\n",
    "ts_data['Year'] = ts_data['# Date'].dt.year\n",
    "ts_data['Month'] = ts_data['# Date'].dt.month\n",
    "ts_data['Day'] = [i % 365 for i in range(1,731)]\n",
    "\n",
    "\n",
    "monthly_data = ts_data.groupby(['Month', 'Year']).sum().reset_index()\n",
    "\n",
    "def line_plot_fn(plot_type):\n",
    "    if plot_type == \"Monthly\":\n",
    "        \n",
    "        return gr.LinePlot(monthly_data, x=\"Month\", y=\"Receipt_Count\", color=\"Year\", overlay_point=True, tooltip=\"Receipt_Count\")\n",
    "    else:\n",
    "        return gr.LinePlot(ts_data, x=\"Day\", y=\"Receipt_Count\", color=\"Year\", overlay_point=True, tooltip=\"Receipt_Count\")\n",
    "\n",
    "with gr.Blocks() as line_plot:\n",
    "    with gr.Row():\n",
    "        with gr.Column():\n",
    "            plot = gr.LinePlot()\n",
    "            \n",
    "            year_button = gr.Radio(label=\"Plot Type\",\n",
    "                      choices=['Daily', 'Monthly'], value=\"Monthly\")\n",
    "            year_button.input(fn=line_plot_fn, inputs=[year_button], outputs=[plot])\n",
    "            line_plot.load(fn=line_plot_fn, inputs=[year_button], outputs=[plot])\n",
    "\n",
    "        line_plot.launch()"
   ]
  },
  {
   "cell_type": "code",
   "execution_count": null,
   "id": "4cbeed77",
   "metadata": {},
   "outputs": [],
   "source": []
  },
  {
   "cell_type": "code",
   "execution_count": null,
   "id": "e53fef46",
   "metadata": {},
   "outputs": [],
   "source": []
  },
  {
   "cell_type": "code",
   "execution_count": null,
   "id": "070efaac",
   "metadata": {},
   "outputs": [],
   "source": []
  },
  {
   "cell_type": "code",
   "execution_count": 33,
   "id": "2aa24283",
   "metadata": {},
   "outputs": [],
   "source": []
  },
  {
   "cell_type": "code",
   "execution_count": null,
   "id": "397a2d70",
   "metadata": {},
   "outputs": [],
   "source": []
  },
  {
   "cell_type": "code",
   "execution_count": null,
   "id": "7aabcd5b",
   "metadata": {},
   "outputs": [],
   "source": []
  },
  {
   "cell_type": "code",
   "execution_count": null,
   "id": "d4b08e8f",
   "metadata": {},
   "outputs": [],
   "source": []
  },
  {
   "cell_type": "code",
   "execution_count": null,
   "id": "22b804ab",
   "metadata": {},
   "outputs": [],
   "source": []
  },
  {
   "cell_type": "code",
   "execution_count": null,
   "id": "a8688e78",
   "metadata": {},
   "outputs": [],
   "source": []
  },
  {
   "cell_type": "code",
   "execution_count": null,
   "id": "50434734",
   "metadata": {},
   "outputs": [],
   "source": []
  },
  {
   "cell_type": "code",
   "execution_count": null,
   "id": "fcfc58d0",
   "metadata": {},
   "outputs": [],
   "source": []
  },
  {
   "cell_type": "code",
   "execution_count": null,
   "id": "9d8573c1",
   "metadata": {},
   "outputs": [],
   "source": []
  },
  {
   "cell_type": "code",
   "execution_count": null,
   "id": "911f33ee",
   "metadata": {},
   "outputs": [],
   "source": []
  },
  {
   "cell_type": "code",
   "execution_count": null,
   "id": "aee3dcc3",
   "metadata": {},
   "outputs": [],
   "source": []
  },
  {
   "cell_type": "code",
   "execution_count": null,
   "id": "49ff315b",
   "metadata": {},
   "outputs": [],
   "source": []
  },
  {
   "cell_type": "code",
   "execution_count": null,
   "id": "079be6a3",
   "metadata": {},
   "outputs": [],
   "source": []
  },
  {
   "cell_type": "code",
   "execution_count": null,
   "id": "8427e52a",
   "metadata": {},
   "outputs": [],
   "source": []
  },
  {
   "cell_type": "code",
   "execution_count": null,
   "id": "9b861386",
   "metadata": {},
   "outputs": [],
   "source": []
  },
  {
   "cell_type": "code",
   "execution_count": null,
   "id": "b205a9c1",
   "metadata": {},
   "outputs": [],
   "source": []
  },
  {
   "cell_type": "code",
   "execution_count": null,
   "id": "dce11926",
   "metadata": {},
   "outputs": [],
   "source": []
  },
  {
   "cell_type": "code",
   "execution_count": null,
   "id": "a21c765f",
   "metadata": {},
   "outputs": [],
   "source": []
  },
  {
   "cell_type": "code",
   "execution_count": null,
   "id": "cc467ae2",
   "metadata": {},
   "outputs": [],
   "source": []
  },
  {
   "cell_type": "code",
   "execution_count": null,
   "id": "4fd7d778",
   "metadata": {},
   "outputs": [],
   "source": []
  },
  {
   "cell_type": "code",
   "execution_count": null,
   "id": "e0628fe0",
   "metadata": {},
   "outputs": [],
   "source": []
  },
  {
   "cell_type": "code",
   "execution_count": null,
   "id": "e38c7945",
   "metadata": {},
   "outputs": [],
   "source": []
  },
  {
   "cell_type": "code",
   "execution_count": null,
   "id": "73e4cf9a",
   "metadata": {},
   "outputs": [],
   "source": []
  },
  {
   "cell_type": "code",
   "execution_count": null,
   "id": "48a98e81",
   "metadata": {},
   "outputs": [],
   "source": []
  },
  {
   "cell_type": "code",
   "execution_count": null,
   "id": "b3f9624e",
   "metadata": {},
   "outputs": [],
   "source": []
  },
  {
   "cell_type": "code",
   "execution_count": null,
   "id": "eaf9c099",
   "metadata": {},
   "outputs": [],
   "source": []
  },
  {
   "cell_type": "code",
   "execution_count": null,
   "id": "029b2a82",
   "metadata": {},
   "outputs": [],
   "source": []
  },
  {
   "cell_type": "code",
   "execution_count": null,
   "id": "d2a30465",
   "metadata": {},
   "outputs": [],
   "source": []
  },
  {
   "cell_type": "code",
   "execution_count": null,
   "id": "de5e3a37",
   "metadata": {},
   "outputs": [],
   "source": []
  },
  {
   "cell_type": "code",
   "execution_count": null,
   "id": "2b131d5c",
   "metadata": {},
   "outputs": [],
   "source": []
  },
  {
   "cell_type": "code",
   "execution_count": null,
   "id": "0732a286",
   "metadata": {},
   "outputs": [],
   "source": []
  },
  {
   "cell_type": "code",
   "execution_count": null,
   "id": "64844d10",
   "metadata": {},
   "outputs": [],
   "source": []
  },
  {
   "cell_type": "code",
   "execution_count": null,
   "id": "901803d7",
   "metadata": {},
   "outputs": [],
   "source": []
  },
  {
   "cell_type": "code",
   "execution_count": null,
   "id": "dde74a89",
   "metadata": {},
   "outputs": [],
   "source": []
  },
  {
   "cell_type": "code",
   "execution_count": null,
   "id": "ca280652",
   "metadata": {},
   "outputs": [],
   "source": []
  },
  {
   "cell_type": "code",
   "execution_count": null,
   "id": "1e2776a1",
   "metadata": {},
   "outputs": [],
   "source": []
  },
  {
   "cell_type": "code",
   "execution_count": null,
   "id": "71faf441",
   "metadata": {},
   "outputs": [],
   "source": []
  },
  {
   "cell_type": "code",
   "execution_count": null,
   "id": "c3ecca62",
   "metadata": {},
   "outputs": [],
   "source": []
  },
  {
   "cell_type": "code",
   "execution_count": null,
   "id": "6dd36756",
   "metadata": {},
   "outputs": [],
   "source": []
  },
  {
   "cell_type": "code",
   "execution_count": null,
   "id": "bfbd00ca",
   "metadata": {},
   "outputs": [],
   "source": []
  },
  {
   "cell_type": "code",
   "execution_count": null,
   "id": "76e80bf3",
   "metadata": {},
   "outputs": [],
   "source": []
  },
  {
   "cell_type": "code",
   "execution_count": null,
   "id": "b6f6413e",
   "metadata": {},
   "outputs": [],
   "source": []
  },
  {
   "cell_type": "code",
   "execution_count": null,
   "id": "f1bc0f5c",
   "metadata": {},
   "outputs": [],
   "source": []
  },
  {
   "cell_type": "code",
   "execution_count": null,
   "id": "f7ce9167",
   "metadata": {},
   "outputs": [],
   "source": []
  },
  {
   "cell_type": "code",
   "execution_count": null,
   "id": "f4fac8b1",
   "metadata": {},
   "outputs": [],
   "source": []
  },
  {
   "cell_type": "code",
   "execution_count": null,
   "id": "982c1b90",
   "metadata": {},
   "outputs": [],
   "source": []
  },
  {
   "cell_type": "code",
   "execution_count": null,
   "id": "e400a150",
   "metadata": {},
   "outputs": [],
   "source": []
  },
  {
   "cell_type": "code",
   "execution_count": null,
   "id": "48261a7f",
   "metadata": {},
   "outputs": [],
   "source": []
  },
  {
   "cell_type": "code",
   "execution_count": 67,
   "id": "df92ae6b",
   "metadata": {},
   "outputs": [],
   "source": []
  },
  {
   "cell_type": "code",
   "execution_count": null,
   "id": "ba1fba16",
   "metadata": {},
   "outputs": [],
   "source": []
  },
  {
   "cell_type": "code",
   "execution_count": null,
   "id": "a3cead23",
   "metadata": {},
   "outputs": [],
   "source": []
  },
  {
   "cell_type": "code",
   "execution_count": null,
   "id": "10d1a188",
   "metadata": {},
   "outputs": [],
   "source": []
  },
  {
   "cell_type": "code",
   "execution_count": 19,
   "id": "f03686e7",
   "metadata": {},
   "outputs": [],
   "source": []
  },
  {
   "cell_type": "code",
   "execution_count": 34,
   "id": "3a32966a",
   "metadata": {},
   "outputs": [],
   "source": []
  },
  {
   "cell_type": "code",
   "execution_count": 35,
   "id": "9b130f55",
   "metadata": {},
   "outputs": [],
   "source": []
  },
  {
   "cell_type": "code",
   "execution_count": null,
   "id": "969ea52c",
   "metadata": {},
   "outputs": [],
   "source": []
  },
  {
   "cell_type": "code",
   "execution_count": 42,
   "id": "9e22a8dd",
   "metadata": {},
   "outputs": [],
   "source": []
  },
  {
   "cell_type": "code",
   "execution_count": 17,
   "id": "67f3caac",
   "metadata": {},
   "outputs": [],
   "source": []
  },
  {
   "cell_type": "code",
   "execution_count": 10,
   "id": "54249fa1",
   "metadata": {},
   "outputs": [],
   "source": []
  },
  {
   "cell_type": "code",
   "execution_count": 54,
   "id": "d1731aa9",
   "metadata": {},
   "outputs": [
    {
     "ename": "NameError",
     "evalue": "name 'a' is not defined",
     "output_type": "error",
     "traceback": [
      "\u001b[0;31m---------------------------------------------------------------------------\u001b[0m",
      "\u001b[0;31mNameError\u001b[0m                                 Traceback (most recent call last)",
      "Cell \u001b[0;32mIn[54], line 37\u001b[0m\n\u001b[1;32m     34\u001b[0m preds \u001b[38;5;241m=\u001b[39m []\n\u001b[1;32m     36\u001b[0m \u001b[38;5;28;01mfor\u001b[39;00m i \u001b[38;5;129;01min\u001b[39;00m \u001b[38;5;28mrange\u001b[39m(\u001b[38;5;241m730\u001b[39m):\n\u001b[0;32m---> 37\u001b[0m     preds\u001b[38;5;241m.\u001b[39mappend(b0 \u001b[38;5;241m+\u001b[39m a \u001b[38;5;241m*\u001b[39m i \u001b[38;5;241m+\u001b[39m np\u001b[38;5;241m.\u001b[39mrandom\u001b[38;5;241m.\u001b[39mnormal(\u001b[38;5;241m0\u001b[39m, std))\n\u001b[1;32m     40\u001b[0m alpha \u001b[38;5;241m=\u001b[39m best_alpha\n\u001b[1;32m     41\u001b[0m b0 \u001b[38;5;241m=\u001b[39m best_b0\n",
      "\u001b[0;31mNameError\u001b[0m: name 'a' is not defined"
     ]
    }
   ],
   "source": [
    "ts_data = pd.read_csv('data_daily.csv')\n",
    "\n",
    "def calc_rmse(pred, true):\n",
    "    total = 0\n",
    "    for i in range(len(pred)):\n",
    "        square = (pred[i] - true[i]) ** 2\n",
    "        total += square\n",
    "    mean_square = total / len(pred)\n",
    "    root_mean_square = mean_square ** .5\n",
    "    return root_mean_square\n",
    "\n",
    "b0s = [7250000, 7500000, 7625000, 7750000]\n",
    "alphas = [7000, 7270, 7400, 7500]\n",
    "\n",
    "best_error = 10000000\n",
    "\n",
    "for b0 in b0s:\n",
    "    for alpha in alphas:\n",
    "        values = [b0 + alpha * i for i in range(365)]\n",
    "        error = calc_rmse(values, data)\n",
    "        if error < best_error:\n",
    "            best_alpha = alpha\n",
    "            best_b0 = b0\n",
    "            best_error = error\n",
    "\n",
    "\n",
    "stationary = []\n",
    "\n",
    "for i, elem in enumerate(data):\n",
    "    stationary.append(elem - alpha * i)\n",
    "    \n",
    "std = np.var(stationary) ** .5\n",
    "    \n",
    "preds = []\n",
    "\n",
    "for i in range(730):\n",
    "    preds.append(b0 + a * i + np.random.normal(0, std))\n",
    "\n",
    "    \n",
    "alpha = best_alpha\n",
    "b0 = best_b0\n",
    "\n",
    "\n",
    "ts_data['2022_Receipt_Count'] = preds[365:]\n",
    "ts_data['# Date'] = pd.to_datetime(ts_data['# Date'])\n",
    "ts_data['Day'] = list(range(1,366))\n",
    "\n",
    "monthly_data = ts_data.groupby(['Month', 'Year']).sum()\n",
    "monthly_data['Month'] = list(range(1,13))\n",
    "\n",
    "def line_plot_fn(plot_type):\n",
    "    if plot_type == \"Monthly\":\n",
    "        \n",
    "        return gr.LinePlot(monthly_data, x=\"Month\", y=\"2022_Receipt_Count\")\n",
    "    else:\n",
    "        return gr.LinePlot(ts_data, x=\"Day\", y=\"2022_Receipt_Count\")\n",
    "\n",
    "with gr.Blocks() as line_plot:\n",
    "    with gr.Row():\n",
    "        with gr.Column():\n",
    "            plot = gr.LinePlot()\n",
    "            \n",
    "            year_button = gr.Radio(label=\"Plot Type\",\n",
    "                      choices=['Daily', 'Monthly'], value=\"Monthly\")\n",
    "            year_button.input(fn=line_plot_fn, inputs=[year_button], outputs=[plot])\n",
    "            line_plot.load(fn=line_plot_fn, inputs=[year_button], outputs=[plot])\n",
    "\n",
    "        line_plot.launch()"
   ]
  },
  {
   "cell_type": "code",
   "execution_count": null,
   "id": "3867b65e",
   "metadata": {},
   "outputs": [],
   "source": [
    "gr.LinePlot(monthly_data, x=\"Month\", y=\"2022_Receipt_Count\")"
   ]
  },
  {
   "cell_type": "code",
   "execution_count": 53,
   "id": "5d30bc6c",
   "metadata": {},
   "outputs": [
    {
     "name": "stderr",
     "output_type": "stream",
     "text": [
      "/var/folders/yz/d4wch5zd2m1dl4j2c078zfnm0000gn/T/ipykernel_4196/539342574.py:1: FutureWarning: The default value of numeric_only in DataFrameGroupBy.sum is deprecated. In a future version, numeric_only will default to False. Either specify numeric_only or select only columns which should be valid for the function.\n",
      "  ts_data.groupby(['Month', 'Year']).sum()\n"
     ]
    },
    {
     "data": {
      "text/html": [
       "<div>\n",
       "<style scoped>\n",
       "    .dataframe tbody tr th:only-of-type {\n",
       "        vertical-align: middle;\n",
       "    }\n",
       "\n",
       "    .dataframe tbody tr th {\n",
       "        vertical-align: top;\n",
       "    }\n",
       "\n",
       "    .dataframe thead th {\n",
       "        text-align: right;\n",
       "    }\n",
       "</style>\n",
       "<table border=\"1\" class=\"dataframe\">\n",
       "  <thead>\n",
       "    <tr style=\"text-align: right;\">\n",
       "      <th></th>\n",
       "      <th></th>\n",
       "      <th>Receipt_Count</th>\n",
       "      <th>Day</th>\n",
       "    </tr>\n",
       "    <tr>\n",
       "      <th>Month</th>\n",
       "      <th>Year</th>\n",
       "      <th></th>\n",
       "      <th></th>\n",
       "    </tr>\n",
       "  </thead>\n",
       "  <tbody>\n",
       "    <tr>\n",
       "      <th rowspan=\"2\" valign=\"top\">1</th>\n",
       "      <th>2021</th>\n",
       "      <td>2.367367e+08</td>\n",
       "      <td>496</td>\n",
       "    </tr>\n",
       "    <tr>\n",
       "      <th>2022</th>\n",
       "      <td>3.280331e+08</td>\n",
       "      <td>496</td>\n",
       "    </tr>\n",
       "    <tr>\n",
       "      <th rowspan=\"2\" valign=\"top\">2</th>\n",
       "      <th>2021</th>\n",
       "      <td>2.200335e+08</td>\n",
       "      <td>1274</td>\n",
       "    </tr>\n",
       "    <tr>\n",
       "      <th>2022</th>\n",
       "      <td>3.022258e+08</td>\n",
       "      <td>1274</td>\n",
       "    </tr>\n",
       "    <tr>\n",
       "      <th rowspan=\"2\" valign=\"top\">3</th>\n",
       "      <th>2021</th>\n",
       "      <td>2.486086e+08</td>\n",
       "      <td>2325</td>\n",
       "    </tr>\n",
       "    <tr>\n",
       "      <th>2022</th>\n",
       "      <td>3.436891e+08</td>\n",
       "      <td>2325</td>\n",
       "    </tr>\n",
       "    <tr>\n",
       "      <th rowspan=\"2\" valign=\"top\">4</th>\n",
       "      <th>2021</th>\n",
       "      <td>2.506448e+08</td>\n",
       "      <td>3165</td>\n",
       "    </tr>\n",
       "    <tr>\n",
       "      <th>2022</th>\n",
       "      <td>3.384248e+08</td>\n",
       "      <td>3165</td>\n",
       "    </tr>\n",
       "    <tr>\n",
       "      <th rowspan=\"2\" valign=\"top\">5</th>\n",
       "      <th>2021</th>\n",
       "      <td>2.631517e+08</td>\n",
       "      <td>4216</td>\n",
       "    </tr>\n",
       "    <tr>\n",
       "      <th>2022</th>\n",
       "      <td>3.590784e+08</td>\n",
       "      <td>4216</td>\n",
       "    </tr>\n",
       "    <tr>\n",
       "      <th rowspan=\"2\" valign=\"top\">6</th>\n",
       "      <th>2021</th>\n",
       "      <td>2.606568e+08</td>\n",
       "      <td>4995</td>\n",
       "    </tr>\n",
       "    <tr>\n",
       "      <th>2022</th>\n",
       "      <td>3.531722e+08</td>\n",
       "      <td>4995</td>\n",
       "    </tr>\n",
       "    <tr>\n",
       "      <th rowspan=\"2\" valign=\"top\">7</th>\n",
       "      <th>2021</th>\n",
       "      <td>2.747760e+08</td>\n",
       "      <td>6107</td>\n",
       "    </tr>\n",
       "    <tr>\n",
       "      <th>2022</th>\n",
       "      <td>3.700589e+08</td>\n",
       "      <td>6107</td>\n",
       "    </tr>\n",
       "    <tr>\n",
       "      <th rowspan=\"2\" valign=\"top\">8</th>\n",
       "      <th>2021</th>\n",
       "      <td>2.839432e+08</td>\n",
       "      <td>7068</td>\n",
       "    </tr>\n",
       "    <tr>\n",
       "      <th>2022</th>\n",
       "      <td>3.774829e+08</td>\n",
       "      <td>7068</td>\n",
       "    </tr>\n",
       "    <tr>\n",
       "      <th rowspan=\"2\" valign=\"top\">9</th>\n",
       "      <th>2021</th>\n",
       "      <td>2.811462e+08</td>\n",
       "      <td>7755</td>\n",
       "    </tr>\n",
       "    <tr>\n",
       "      <th>2022</th>\n",
       "      <td>3.717489e+08</td>\n",
       "      <td>7755</td>\n",
       "    </tr>\n",
       "    <tr>\n",
       "      <th rowspan=\"2\" valign=\"top\">10</th>\n",
       "      <th>2021</th>\n",
       "      <td>2.959652e+08</td>\n",
       "      <td>8959</td>\n",
       "    </tr>\n",
       "    <tr>\n",
       "      <th>2022</th>\n",
       "      <td>3.902957e+08</td>\n",
       "      <td>8959</td>\n",
       "    </tr>\n",
       "    <tr>\n",
       "      <th rowspan=\"2\" valign=\"top\">11</th>\n",
       "      <th>2021</th>\n",
       "      <td>2.960852e+08</td>\n",
       "      <td>9585</td>\n",
       "    </tr>\n",
       "    <tr>\n",
       "      <th>2022</th>\n",
       "      <td>3.835208e+08</td>\n",
       "      <td>9585</td>\n",
       "    </tr>\n",
       "    <tr>\n",
       "      <th rowspan=\"2\" valign=\"top\">12</th>\n",
       "      <th>2021</th>\n",
       "      <td>3.099487e+08</td>\n",
       "      <td>10485</td>\n",
       "    </tr>\n",
       "    <tr>\n",
       "      <th>2022</th>\n",
       "      <td>4.050031e+08</td>\n",
       "      <td>10485</td>\n",
       "    </tr>\n",
       "  </tbody>\n",
       "</table>\n",
       "</div>"
      ],
      "text/plain": [
       "            Receipt_Count    Day\n",
       "Month Year                      \n",
       "1     2021   2.367367e+08    496\n",
       "      2022   3.280331e+08    496\n",
       "2     2021   2.200335e+08   1274\n",
       "      2022   3.022258e+08   1274\n",
       "3     2021   2.486086e+08   2325\n",
       "      2022   3.436891e+08   2325\n",
       "4     2021   2.506448e+08   3165\n",
       "      2022   3.384248e+08   3165\n",
       "5     2021   2.631517e+08   4216\n",
       "      2022   3.590784e+08   4216\n",
       "6     2021   2.606568e+08   4995\n",
       "      2022   3.531722e+08   4995\n",
       "7     2021   2.747760e+08   6107\n",
       "      2022   3.700589e+08   6107\n",
       "8     2021   2.839432e+08   7068\n",
       "      2022   3.774829e+08   7068\n",
       "9     2021   2.811462e+08   7755\n",
       "      2022   3.717489e+08   7755\n",
       "10    2021   2.959652e+08   8959\n",
       "      2022   3.902957e+08   8959\n",
       "11    2021   2.960852e+08   9585\n",
       "      2022   3.835208e+08   9585\n",
       "12    2021   3.099487e+08  10485\n",
       "      2022   4.050031e+08  10485"
      ]
     },
     "execution_count": 53,
     "metadata": {},
     "output_type": "execute_result"
    }
   ],
   "source": [
    "ts_data.groupby(['Month', 'Year']).sum()['']"
   ]
  },
  {
   "cell_type": "code",
   "execution_count": 60,
   "id": "03fc8aa6",
   "metadata": {},
   "outputs": [
    {
     "data": {
      "text/plain": [
       "Index(['Receipt_Count', 'Day'], dtype='object')"
      ]
     },
     "execution_count": 60,
     "metadata": {},
     "output_type": "execute_result"
    }
   ],
   "source": [
    "monthly_data.columns"
   ]
  },
  {
   "cell_type": "code",
   "execution_count": null,
   "id": "e9f71642",
   "metadata": {},
   "outputs": [],
   "source": [
    "!pip install --upgrade gradio"
   ]
  },
  {
   "cell_type": "code",
   "execution_count": 69,
   "id": "37f9a5cc",
   "metadata": {},
   "outputs": [
    {
     "name": "stdout",
     "output_type": "stream",
     "text": [
      "pipreqs  --force .\n",
      "INFO: Successfully saved requirements file in ./requirements.txt\n"
     ]
    }
   ],
   "source": [
    "!pipreqsnb --force ."
   ]
  },
  {
   "cell_type": "code",
   "execution_count": 70,
   "id": "d7efc642",
   "metadata": {},
   "outputs": [
    {
     "name": "stdout",
     "output_type": "stream",
     "text": [
      "Python 3.11.4\r\n"
     ]
    }
   ],
   "source": [
    "!python --version"
   ]
  },
  {
   "cell_type": "code",
   "execution_count": null,
   "id": "2e101d13",
   "metadata": {},
   "outputs": [],
   "source": []
  }
 ],
 "metadata": {
  "kernelspec": {
   "display_name": "holford_kernel",
   "language": "python",
   "name": "holford_kernel"
  },
  "language_info": {
   "codemirror_mode": {
    "name": "ipython",
    "version": 3
   },
   "file_extension": ".py",
   "mimetype": "text/x-python",
   "name": "python",
   "nbconvert_exporter": "python",
   "pygments_lexer": "ipython3",
   "version": "3.11.4"
  }
 },
 "nbformat": 4,
 "nbformat_minor": 5
}
